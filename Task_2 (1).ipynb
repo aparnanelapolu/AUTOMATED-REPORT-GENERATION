{
  "nbformat": 4,
  "nbformat_minor": 0,
  "metadata": {
    "colab": {
      "provenance": [],
      "toc_visible": true
    },
    "kernelspec": {
      "name": "python3",
      "display_name": "Python 3"
    },
    "language_info": {
      "name": "python"
    }
  },
  "cells": [
    {
      "cell_type": "code",
      "execution_count": 1,
      "metadata": {
        "colab": {
          "base_uri": "https://localhost:8080/"
        },
        "id": "jIdAoB-LkTiR",
        "outputId": "d218b734-c82e-4783-dee9-7e4bfdf8b52a"
      },
      "outputs": [
        {
          "output_type": "stream",
          "name": "stdout",
          "text": [
            "Failed to send email: [Errno -2] Name or service not known\n"
          ]
        }
      ],
      "source": [
        "import pandas as pd\n",
        "import smtplib\n",
        "from email.mime.multipart import MIMEMultipart\n",
        "from email.mime.text import MIMEText\n",
        "\n",
        "# Create sample data\n",
        "data = {\n",
        "    'Name': ['Alice', 'Bob', 'Charlie'],\n",
        "    'Sales': [2500, 1500, 3000],\n",
        "    'Region': ['North', 'South', 'East']\n",
        "}\n",
        "\n",
        "df = pd.DataFrame(data)\n",
        "\n",
        "# Generate report\n",
        "report_file = 'sales_report.html'\n",
        "df.to_html(report_file, index=False)\n",
        "\n",
        "# Function to send email\n",
        "def send_email(report_file):\n",
        "    sender_email = 'your_email@example.com'\n",
        "    receiver_email = 'recipient@example.com'\n",
        "    password = 'your_password'\n",
        "\n",
        "    msg = MIMEMultipart()\n",
        "    msg['From'] = sender_email\n",
        "    msg['To'] = receiver_email\n",
        "    msg['Subject'] = 'Automated Sales Report'\n",
        "\n",
        "    with open(report_file, 'r') as file:\n",
        "        report_content = file.read()\n",
        "\n",
        "    msg.attach(MIMEText(report_content, 'html'))\n",
        "\n",
        "    try:\n",
        "        with smtplib.SMTP('smtp.example.com', 587) as server:\n",
        "            server.starttls()\n",
        "            server.login(sender_email, password)\n",
        "            server.send_message(msg)\n",
        "            print(\"Email sent successfully!\")\n",
        "    except Exception as e:\n",
        "        print(f\"Failed to send email: {e}\")\n",
        "\n",
        "# Call the function to send the email\n",
        "send_email(report_file)"
      ]
    },
    {
      "cell_type": "code",
      "source": [
        "from google.colab import drive\n",
        "drive.mount('/content/drive')"
      ],
      "metadata": {
        "id": "PBO_A3yPkhSv"
      },
      "execution_count": null,
      "outputs": []
    }
  ]
}